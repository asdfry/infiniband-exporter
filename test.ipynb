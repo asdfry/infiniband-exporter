{
 "cells": [
  {
   "cell_type": "code",
   "execution_count": 1,
   "metadata": {},
   "outputs": [],
   "source": [
    "import re\n",
    "\n",
    "from glob import glob\n",
    "from prometheus_client import Gauge"
   ]
  },
  {
   "cell_type": "code",
   "execution_count": 2,
   "metadata": {},
   "outputs": [],
   "source": [
    "paths = [i for i in glob(\"/sys/class/infiniband/mlx*\") if re.search(r\"mlx\\d_\\d+\", i)]\n",
    "cnt_names = [\"port_xmit_data\", \"port_xmit_packets\", \"port_rcv_data\", \"port_rcv_packets\"]\n",
    "last_cnt = {i.split(\"/\")[-1]: {} for i in paths}\n",
    "\n",
    "for path in paths:\n",
    "    hca = path.split(\"/\")[-1]\n",
    "    for cnt_name in cnt_names:\n",
    "        with open(f\"{path}/ports/1/counters/{cnt_name}\", \"r\") as f:\n",
    "            cnt = int(f.read().strip())\n",
    "            last_cnt[hca][cnt_name] = {}\n",
    "            last_cnt[hca][cnt_name][\"metric\"] = Gauge(f\"{hca}_{cnt_name}\", f\"HCA: {hca}, Counter: {cnt_name}\")\n",
    "            last_cnt[hca][cnt_name][\"value\"] = cnt"
   ]
  },
  {
   "cell_type": "code",
   "execution_count": 3,
   "metadata": {},
   "outputs": [
    {
     "data": {
      "text/plain": [
       "{'mlx5_3': {'port_xmit_data': {'metric': prometheus_client.metrics.Gauge(mlx5_3_port_xmit_data),\n",
       "   'value': 1336778301635},\n",
       "  'port_xmit_packets': {'metric': prometheus_client.metrics.Gauge(mlx5_3_port_xmit_packets),\n",
       "   'value': 1374536398},\n",
       "  'port_rcv_data': {'metric': prometheus_client.metrics.Gauge(mlx5_3_port_rcv_data),\n",
       "   'value': 1314010173537},\n",
       "  'port_rcv_packets': {'metric': prometheus_client.metrics.Gauge(mlx5_3_port_rcv_packets),\n",
       "   'value': 1361663436}},\n",
       " 'mlx5_2': {'port_xmit_data': {'metric': prometheus_client.metrics.Gauge(mlx5_2_port_xmit_data),\n",
       "   'value': 6867843235443},\n",
       "  'port_xmit_packets': {'metric': prometheus_client.metrics.Gauge(mlx5_2_port_xmit_packets),\n",
       "   'value': 7016287835},\n",
       "  'port_rcv_data': {'metric': prometheus_client.metrics.Gauge(mlx5_2_port_rcv_data),\n",
       "   'value': 6785333589688},\n",
       "  'port_rcv_packets': {'metric': prometheus_client.metrics.Gauge(mlx5_2_port_rcv_packets),\n",
       "   'value': 6962798018}}}"
      ]
     },
     "execution_count": 3,
     "metadata": {},
     "output_type": "execute_result"
    }
   ],
   "source": [
    "last_cnt"
   ]
  },
  {
   "cell_type": "code",
   "execution_count": 4,
   "metadata": {},
   "outputs": [],
   "source": [
    "g = Gauge('my_inprogress_requests', 'Description of gauge')\n",
    "g.set(7)"
   ]
  },
  {
   "cell_type": "code",
   "execution_count": 7,
   "metadata": {},
   "outputs": [
    {
     "data": {
      "text/plain": [
       "7.0"
      ]
     },
     "execution_count": 7,
     "metadata": {},
     "output_type": "execute_result"
    }
   ],
   "source": [
    "g._value.get()"
   ]
  }
 ],
 "metadata": {
  "kernelspec": {
   "display_name": "Python 3",
   "language": "python",
   "name": "python3"
  },
  "language_info": {
   "codemirror_mode": {
    "name": "ipython",
    "version": 3
   },
   "file_extension": ".py",
   "mimetype": "text/x-python",
   "name": "python",
   "nbconvert_exporter": "python",
   "pygments_lexer": "ipython3",
   "version": "3.10.12"
  },
  "orig_nbformat": 4
 },
 "nbformat": 4,
 "nbformat_minor": 2
}
