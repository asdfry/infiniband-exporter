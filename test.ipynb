{
 "cells": [
  {
   "cell_type": "code",
   "execution_count": 1,
   "metadata": {},
   "outputs": [],
   "source": [
    "import re\n",
    "import socket\n",
    "\n",
    "from glob import glob\n",
    "from prometheus_client import Gauge"
   ]
  },
  {
   "cell_type": "code",
   "execution_count": 2,
   "metadata": {},
   "outputs": [],
   "source": [
    "port_xmit_data = Gauge(\"port_xmit_data\", \"Transmitted data (bytes)\", [\"hostname\", \"hca\", \"kubernetes_name\"])\n",
    "port_xmit_packets = Gauge(\"port_xmit_packets\", \"Number of transmitted packets\", [\"hostname\", \"hca\", \"kubernetes_name\"])\n",
    "port_rcv_data = Gauge(\"port_rcv_data\", \"Received data (bytes)\", [\"hostname\", \"hca\", \"kubernetes_name\"])\n",
    "port_rcv_packets = Gauge(\"port_rcv_packets\", \"Number of received packets\", [\"hostname\", \"hca\", \"kubernetes_name\"])\n",
    "\n",
    "paths = [i for i in glob(\"/sys/class/infiniband/mlx*\") if re.search(r\"mlx\\d_\\d+\", i)]\n",
    "cnt_names = [\"port_xmit_data\", \"port_xmit_packets\", \"port_rcv_data\", \"port_rcv_packets\"]\n",
    "last_cnt = {i.split(\"/\")[-1]: {} for i in paths}\n",
    "hostname = socket.gethostname()\n",
    "\n",
    "for path in paths:\n",
    "    hca = path.split(\"/\")[-1]\n",
    "    for cnt_name in cnt_names:\n",
    "        with open(f\"{path}/ports/1/counters/{cnt_name}\", \"r\") as f:\n",
    "            cnt = int(f.read().strip())\n",
    "            last_cnt[hca][cnt_name] = cnt"
   ]
  },
  {
   "cell_type": "code",
   "execution_count": 3,
   "metadata": {},
   "outputs": [
    {
     "data": {
      "text/plain": [
       "{'mlx5_3': {'port_xmit_data': 1336791619718,\n",
       "  'port_xmit_packets': 1374722731,\n",
       "  'port_rcv_data': 1314047368800,\n",
       "  'port_rcv_packets': 1362180415},\n",
       " 'mlx5_2': {'port_xmit_data': 7298114327084,\n",
       "  'port_xmit_packets': 7451503588,\n",
       "  'port_rcv_data': 7184384625743,\n",
       "  'port_rcv_packets': 7370469857}}"
      ]
     },
     "execution_count": 3,
     "metadata": {},
     "output_type": "execute_result"
    }
   ],
   "source": [
    "last_cnt"
   ]
  }
 ],
 "metadata": {
  "kernelspec": {
   "display_name": "Python 3",
   "language": "python",
   "name": "python3"
  },
  "language_info": {
   "codemirror_mode": {
    "name": "ipython",
    "version": 3
   },
   "file_extension": ".py",
   "mimetype": "text/x-python",
   "name": "python",
   "nbconvert_exporter": "python",
   "pygments_lexer": "ipython3",
   "version": "3.10.12"
  },
  "orig_nbformat": 4
 },
 "nbformat": 4,
 "nbformat_minor": 2
}
